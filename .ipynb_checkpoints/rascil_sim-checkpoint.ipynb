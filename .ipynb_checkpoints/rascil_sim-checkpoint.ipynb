{
 "cells": [
  {
   "cell_type": "markdown",
   "id": "de279402",
   "metadata": {},
   "source": [
    "# Multi-step Deconvolution Results from full RASCIL major-minor loop simulations"
   ]
  },
  {
   "cell_type": "markdown",
   "id": "448e74fa",
   "metadata": {},
   "source": [
    "## Datasets with their respective parameters"
   ]
  },
  {
   "cell_type": "markdown",
   "id": "129ebc7a",
   "metadata": {},
   "source": [
    "## Full resolution LASSO reconstruction"
   ]
  },
  {
   "cell_type": "markdown",
   "id": "ebfbe201",
   "metadata": {},
   "source": [
    "## Multi-step reconstruction"
   ]
  },
  {
   "cell_type": "markdown",
   "id": "c5ff6979",
   "metadata": {},
   "source": [
    "## Comparisons"
   ]
  }
 ],
 "metadata": {
  "kernelspec": {
   "display_name": "Python 3 (ipykernel)",
   "language": "python",
   "name": "python3"
  },
  "language_info": {
   "codemirror_mode": {
    "name": "ipython",
    "version": 3
   },
   "file_extension": ".py",
   "mimetype": "text/x-python",
   "name": "python",
   "nbconvert_exporter": "python",
   "pygments_lexer": "ipython3",
   "version": "3.10.12"
  }
 },
 "nbformat": 4,
 "nbformat_minor": 5
}
